{
 "cells": [
  {
   "cell_type": "markdown",
   "metadata": {},
   "source": [
    "# 深度学习\n",
    "\n",
    "## PyTorch基础\n",
    "首先介绍里面最基本的操作对象，tensor。  \n",
    "tensor就是张量的英文，表示多维的矩阵，比如一维就是向量，二维就是一般的矩阵等等，pytorch里面处理的单位就是一个一个的tensor"
   ]
  },
  {
   "cell_type": "code",
   "execution_count": 6,
   "metadata": {
    "scrolled": false
   },
   "outputs": [
    {
     "data": {
      "text/plain": [
       "tensor([[0.0000e+00, 0.0000e+00, 0.0000e+00, 0.0000e+00, 0.0000e+00],\n",
       "        [0.0000e+00, 0.0000e+00, 0.0000e+00, 0.0000e+00, 0.0000e+00],\n",
       "        [0.0000e+00, 0.0000e+00, 0.0000e+00, 0.0000e+00, 4.3060e-02],\n",
       "        [7.3708e-43, 0.0000e+00, 0.0000e+00, 0.0000e+00, 0.0000e+00]])"
      ]
     },
     "execution_count": 6,
     "metadata": {},
     "output_type": "execute_result"
    }
   ],
   "source": [
    "import torch\n",
    "torch.Tensor(4,5)"
   ]
  },
  {
   "attachments": {
    "image.png": {
     "image/png": "[encoded data removed]"
    }
   },
   "cell_type": "markdown",
   "metadata": {},
   "source": [
    "* Variable  \n",
    "pytorch和numpy不一样的地方，就是其提供了自动求导功能，也就是可以自动给你你要的参数的梯度，这个操作又另外一个基本元素提供， \n",
    "本质上Variable和Tensor没有区别，不过Variabel会放入一个计算图，然后进行前向传播，反向传播以及自动求导。  \n",
    "一个Variable里面包含着三个属性，data，grad和creator，其中creator表示得到这个Variabel的操作，比如乘法或者加法等等，grad表示方向传播的梯度，data表示取出这个Variabel里面的数据  \n",
    "![image.png](attachment:image.png)"
   ]
  },
  {
   "cell_type": "code",
   "execution_count": 13,
   "metadata": {},
   "outputs": [
    {
     "name": "stdout",
     "output_type": "stream",
     "text": [
      "tensor([2.])\n",
      "tensor([1.])\n",
      "tensor([3.], requires_grad=True)\n",
      "tensor([5.], requires_grad=True)\n"
     ]
    }
   ],
   "source": [
    "#  requires_grad 表示是否对其求梯度，默认是False\n",
    "x = torch.autograd.Variable(torch.Tensor([3]),requires_grad=True)\n",
    "y = torch.autograd.Variable(torch.Tensor([5]),requires_grad=True)\n",
    "z = 2 * x + y + 4 \n",
    "\n",
    "# 对 x 和 y 分别求导\n",
    "z.backward()\n",
    "print(x.grad.data)\n",
    "print(y.grad.data)\n",
    "print(x)\n",
    "print(y)"
   ]
  },
  {
   "cell_type": "markdown",
   "metadata": {},
   "source": [
    "## 神经网络  \n",
    "前面讲了两个操作对象，最后讲一下pytorch里面的模型建立，模型的建立主要依赖于torch.nn，torch.nn包含这个所有神经网络的层的结构"
   ]
  },
  {
   "cell_type": "code",
   "execution_count": 4,
   "metadata": {},
   "outputs": [],
   "source": [
    "import torch.nn as nn\n",
    "class net_name(nn.Module):\n",
    "    def __int__(self):\n",
    "        super(net_name,self).__init__()\n",
    "        # 可以添加各种网络层\n",
    "        self.conv1 = nn.Conv2d(3, 10, 3)\n",
    "        # 具体美中蹭的参数可以去查看文档\n",
    "        \n",
    "    def forward(self, x):\n",
    "        # 定义向前传播\n",
    "        out = self.conv1(x)\n",
    "        return out\n",
    "        "
   ]
  },
  {
   "cell_type": "markdown",
   "metadata": {},
   "source": [
    "## 线性回归  \n",
    "线性回归即给出一系列的点，找一条直线，使得这条直线与这些点的距离之和最小。"
   ]
  },
  {
   "cell_type": "code",
   "execution_count": 12,
   "metadata": {
    "scrolled": true
   },
   "outputs": [
    {
     "name": "stdout",
     "output_type": "stream",
     "text": [
      "Epoch[20/1000], loss: 57.441483\n",
      "Epoch[40/1000], loss: 40.682888\n",
      "Epoch[60/1000], loss: 28.838808\n",
      "Epoch[80/1000], loss: 20.468027\n",
      "Epoch[100/1000], loss: 14.551984\n",
      "Epoch[120/1000], loss: 10.370814\n",
      "Epoch[140/1000], loss: 7.415758\n",
      "Epoch[160/1000], loss: 5.327249\n",
      "Epoch[180/1000], loss: 3.851168\n",
      "Epoch[200/1000], loss: 2.807919\n",
      "Epoch[220/1000], loss: 2.070570\n",
      "Epoch[240/1000], loss: 1.549416\n",
      "Epoch[260/1000], loss: 1.181055\n",
      "Epoch[280/1000], loss: 0.920681\n",
      "Epoch[300/1000], loss: 0.736625\n",
      "Epoch[320/1000], loss: 0.606507\n",
      "Epoch[340/1000], loss: 0.514510\n",
      "Epoch[360/1000], loss: 0.449454\n",
      "Epoch[380/1000], loss: 0.403438\n",
      "Epoch[400/1000], loss: 0.370880\n",
      "Epoch[420/1000], loss: 0.347832\n",
      "Epoch[440/1000], loss: 0.331506\n",
      "Epoch[460/1000], loss: 0.319931\n",
      "Epoch[480/1000], loss: 0.311713\n",
      "Epoch[500/1000], loss: 0.305868\n",
      "Epoch[520/1000], loss: 0.301700\n",
      "Epoch[540/1000], loss: 0.298718\n",
      "Epoch[560/1000], loss: 0.296573\n",
      "Epoch[580/1000], loss: 0.295020\n",
      "Epoch[600/1000], loss: 0.293886\n",
      "Epoch[620/1000], loss: 0.293048\n",
      "Epoch[640/1000], loss: 0.292418\n",
      "Epoch[660/1000], loss: 0.291937\n",
      "Epoch[680/1000], loss: 0.291560\n",
      "Epoch[700/1000], loss: 0.291257\n",
      "Epoch[720/1000], loss: 0.291006\n",
      "Epoch[740/1000], loss: 0.290792\n",
      "Epoch[760/1000], loss: 0.290604\n",
      "Epoch[780/1000], loss: 0.290435\n",
      "Epoch[800/1000], loss: 0.290279\n",
      "Epoch[820/1000], loss: 0.290132\n",
      "Epoch[840/1000], loss: 0.289992\n",
      "Epoch[860/1000], loss: 0.289857\n",
      "Epoch[880/1000], loss: 0.289725\n",
      "Epoch[900/1000], loss: 0.289595\n",
      "Epoch[920/1000], loss: 0.289468\n",
      "Epoch[940/1000], loss: 0.289341\n",
      "Epoch[960/1000], loss: 0.289216\n",
      "Epoch[980/1000], loss: 0.289091\n",
      "Epoch[1000/1000], loss: 0.288966\n"
     ]
    },
    {
     "data": {
      "image/png": "[encoded data removed]",
      "text/plain": [
       "<Figure size 432x288 with 1 Axes>"
      ]
     },
     "metadata": {
      "needs_background": "light"
     },
     "output_type": "display_data"
    }
   ],
   "source": [
    "import torch\n",
    "from torch import nn, optim\n",
    "from torch.autograd import Variable\n",
    "import numpy as np\n",
    "import matplotlib.pyplot as plt\n",
    "\n",
    "x_train = np.array([[3.3], [4.4], [5.5], [6.71], [6.93], [4.168],\n",
    "                    [9.779], [6.182], [7.59], [2.167], [7.042],\n",
    "                    [10.791], [5.313], [7.997], [3.1]], dtype=np.float32)\n",
    "\n",
    "y_train = np.array([[1.7], [2.76], [2.09], [3.19], [1.694], [1.573],\n",
    "                    [3.366], [2.596], [2.53], [1.221], [2.827],\n",
    "                    [3.465], [1.65], [2.904], [1.3]], dtype=np.float32)\n",
    "\n",
    "\n",
    "x_train = torch.from_numpy(x_train)\n",
    "\n",
    "y_train = torch.from_numpy(y_train)\n",
    "\n",
    "\n",
    "# Linear Regression Model\n",
    "class LinearRegression(nn.Module):\n",
    "    def __init__(self):\n",
    "        super(LinearRegression, self).__init__()\n",
    "        # nn.linear表示 y = w*x + b\n",
    "        self.linear = nn.Linear(1, 1)  # input and output is 1 dimension\n",
    "\n",
    "    def forward(self, x):\n",
    "        out = self.linear(x)\n",
    "        return out\n",
    "\n",
    "\n",
    "model = LinearRegression()\n",
    "# 定义loss和优化函数\n",
    "criterion = nn.MSELoss()\n",
    "optimizer = optim.SGD(model.parameters(), lr=1e-4)\n",
    "\n",
    "# 开始训练\n",
    "num_epochs = 1000\n",
    "for epoch in range(num_epochs):\n",
    "    inputs = Variable(x_train)\n",
    "    target = Variable(y_train)\n",
    "\n",
    "    # forward\n",
    "    out = model(inputs)\n",
    "    loss = criterion(out, target)\n",
    "    # backward\n",
    "    optimizer.zero_grad()\n",
    "    loss.backward()\n",
    "    optimizer.step()\n",
    "\n",
    "    if (epoch+1) % 20 == 0:\n",
    "        print('Epoch[{}/{}], loss: {:.6f}'\n",
    "              .format(epoch+1, num_epochs, loss.item()))\n",
    "\n",
    "model.eval()\n",
    "predict = model(Variable(x_train))\n",
    "predict = predict.data.numpy()\n",
    "plt.plot(x_train.numpy(), y_train.numpy(), 'ro', label='Original data')\n",
    "plt.plot(x_train.numpy(), predict, label='Fitting Line')\n",
    "# 显示图例\n",
    "plt.legend() \n",
    "plt.show()"
   ]
  },
  {
   "cell_type": "markdown",
   "metadata": {},
   "source": [
    "## logistic回归  \n",
    "\n",
    "logistic回归简单来说和线性回归是一样的，要做的运算同样是 y = w * x b，但是用于处理分类问题。  \n",
    "* logistic回归处理二分类问题  \n",
    "使用sigmoid函数将所有的正数和负数都变成0-1之间的数，这样就可以用这个数来确定到底属于哪一类，可以简单的认为概率大于0.5即为第二类，小于0.5为第一类。  \n",
    "Sigmoid函数：  \n",
    "<img src=\"images/1fc3e5c19c13c474bf1e23cf97130dc5.png\" > \n",
    "Sigmoid函数图像：\n",
    "<img src=\"images/v2-a3b3e3f9106ecf5dd39180cd40e38eef_b.png\" width=\"30%\">  \n",
    "* 多分类问题  \n",
    "对于每一个数据，我们输出的维数是分类的总数，比如10分类，我们输出的就是一个10维的向量，然后我们使用另外一个激活函数，softmax函数，又称归一化指数函数:  \n",
    "<img src=\"images/QQ截图20190528205507.jpg\">  "
   ]
  },
  {
   "cell_type": "code",
   "execution_count": null,
   "metadata": {},
   "outputs": [],
   "source": [
    "# 下载训练集 MNIST 手写数字训练集\n",
    "train_dataset = datasets.MNIST(root=\\'./data\\', train=True,\n",
    "                               transform=transforms.ToTensor(),\n",
    "                               download=True)\n",
    " \n",
    "test_dataset = datasets.MNIST(root=\\'./data\\', train=False,\n",
    "                              transform=transforms.ToTensor())\n",
    " \n",
    "train_loader = DataLoader(train_dataset, batch_size=batch_size, shuffle=True)\n",
    "test_loader = DataLoader(test_dataset, batch_size=batch_size, shuffle=False)"
   ]
  },
  {
   "cell_type": "code",
   "execution_count": null,
   "metadata": {},
   "outputs": [],
   "source": [
    "# 模型\n",
    "class Logstic_Regression(nn.Module):\n",
    "    def __init__(self, in_dim, n_class):\n",
    "        super(Logstic_Regression, self).__init__()\n",
    "        self.logstic = nn.Linear(in_dim, n_class)\n",
    " \n",
    "    def forward(self, x):\n",
    "        out = self.logstic(x)\n",
    "        return out\n",
    " \n",
    "model = Logstic_Regression(28*28, 10)  # 图片大小是28x28\n",
    "use_gpu = torch.cuda.is_available()  # 判断是否有GPU加速\n",
    "if use_gpu:\n",
    "    model = model.cuda()\n",
    "\n",
    "# 定义loss和optimizer\n",
    "criterion = nn.CrossEntropyLoss()\n",
    "optimizer = optim.SGD(model.parameters(), lr=learning_rate)"
   ]
  },
  {
   "cell_type": "code",
   "execution_count": null,
   "metadata": {},
   "outputs": [],
   "source": [
    "# 训练\n",
    "for epoch in range(num_epoches):\n",
    "    print(\\'epoch {}\\'.format(epoch 1))\n",
    "    print(\\'*\\'*10)\n",
    "    running_loss = 0.0\n",
    "    running_acc = 0.0\n",
    "    for i, data in enumerate(train_loader, 1):\n",
    "        img, label = data\n",
    "        img = img.view(img.size(0), -1)  # 将图片展开成 28x28\n",
    "        if use_gpu:\n",
    "            img = Variable(img).cuda()  # 注意我们如果将模型放到了gpu上，相应的我们的Variable也要放到gpu上，\n",
    "            label = Variable(label).cuda()\n",
    "        else:\n",
    "            img = Variable(img)\n",
    "            label = Variable(label)\n",
    "        # 向前传播\n",
    "        out = model(img)\n",
    "        loss = criterion(out, label)\n",
    "        running_loss  = loss.data[0] * label.size(0)\n",
    "        _, pred = torch.max(out, 1)\n",
    "        num_correct = (pred == label).sum()\n",
    "        running_acc  = num_correct.data[0]\n",
    "        # 向后传播\n",
    "        optimizer.zero_grad()\n",
    "        loss.backward()\n",
    "        optimizer.step()\n",
    "          \n",
    "    model.eval()"
   ]
  }
 ],
 "metadata": {
  "kernelspec": {
   "display_name": "Python 3",
   "language": "python",
   "name": "python3"
  },
  "language_info": {
   "codemirror_mode": {
    "name": "ipython",
    "version": 3
   },
   "file_extension": ".py",
   "mimetype": "text/x-python",
   "name": "python",
   "nbconvert_exporter": "python",
   "pygments_lexer": "ipython3",
   "version": "3.7.1"
  }
 },
 "nbformat": 4,
 "nbformat_minor": 2
}
