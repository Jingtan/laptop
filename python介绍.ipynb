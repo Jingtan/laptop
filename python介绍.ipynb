{
 "cells": [
  {
   "cell_type": "markdown",
   "metadata": {},
   "source": [
    "# Python 知识点\n",
    "\n",
    "## **标准数据类型**\n",
    "\n",
    "python中的6个标准数据类型:\n",
    "\n",
    "不可变数据（3 个）：  \n",
    "Number（数字）  \n",
    "String（字符串）  \n",
    "Tuple（元组）;  \n",
    "\n",
    "可变数据（3 个）：  \n",
    "List（列表）  \n",
    "Dictionary（字典）  \n",
    "Set（集合）。"
   ]
  },
  {
   "cell_type": "code",
   "execution_count": 13,
   "metadata": {},
   "outputs": [
    {
     "name": "stdout",
     "output_type": "stream",
     "text": [
      "String[2] c\n",
      "List[2] 3\n",
      "Tuple[2] 3\n",
      "dict[Name]:  Runoob\n",
      "dict[Age]:  7\n",
      "List[-2] 5\n",
      "List[1:] [2, 3, 4, 5, 6]\n"
     ]
    }
   ],
   "source": [
    "String = \"abcdefg\"\n",
    "String1 = \"hijklmn\"\n",
    "List = [1, 2, 3, 4, 5, 6]\n",
    "List1 = [7, 8, 9 , 10, 11,12]\n",
    "Tuple = (1, 2, 3, 4, 5, 6)\n",
    "Tuple1 = (7, 8, 9 , 10, 11,12)\n",
    "dict = {\"Name\": \"Runoob\", \"Age\": 7, \"Class\": \"First\"}\n",
    "\n",
    "# 基本操作\n",
    "#   访问元素\n",
    "print(\"String[2]\", String[2])\n",
    "print(\"List[2]\", List[2])\n",
    "print(\"Tuple[2]\", Tuple[2])\n",
    "print (\"dict[Name]: \", dict[\"Name\"])\n",
    "print (\"dict[Age]: \", dict[\"Age\"])\n",
    "\n",
    "print(\"List[-2]\", List[-2])\n",
    "print(\"List[1:]\", List[1:])"
   ]
  },
  {
   "cell_type": "code",
   "execution_count": 5,
   "metadata": {},
   "outputs": [
    {
     "name": "stdout",
     "output_type": "stream",
     "text": [
      "abcdefghijklmn \n",
      " [1, 2, 3, 4, 5, 6, 7, 8, 9, 10, 11, 12]\n",
      "abcdefghijklmnabcdefghijklmnabcdefghijklmn \n",
      " [1, 2, 3, 4, 5, 6, 7, 8, 9, 10, 11, 12, 1, 2, 3, 4, 5, 6, 7, 8, 9, 10, 11, 12]\n"
     ]
    }
   ],
   "source": [
    "# + 和 *\n",
    "a = String+String1\n",
    "b = List+List1\n",
    "print(a, \"\\n\", b)\n",
    "print(a*3, \"\\n\", b*2)"
   ]
  },
  {
   "cell_type": "code",
   "execution_count": 6,
   "metadata": {},
   "outputs": [
    {
     "name": "stdout",
     "output_type": "stream",
     "text": [
      "[1, 2, 3, 4, 5, 6]\n",
      "[1, 2, 3, 20, 5, 6]\n",
      "{'Name': 'Runoob', 'Age': 7, 'Class': 'First', 'name': 'Name'}\n"
     ]
    }
   ],
   "source": [
    "# 改变值\n",
    "print(List)\n",
    "List[3] = 20\n",
    "print(List)\n",
    "\n",
    "dict[\"name\"]= \"Name\"\n",
    "print(dict)"
   ]
  },
  {
   "cell_type": "code",
   "execution_count": 7,
   "metadata": {},
   "outputs": [
    {
     "name": "stdout",
     "output_type": "stream",
     "text": [
      "[1, 2, 3, 20, 5, 6]\n",
      "[1, 2, 20, 5, 6]\n",
      "{'Name': 'Runoob', 'Age': 7, 'Class': 'First', 'name': 'Name'}\n",
      "{'Age': 7, 'Class': 'First', 'name': 'Name'}\n"
     ]
    }
   ],
   "source": [
    "# 删除\n",
    "print(List)\n",
    "del List[2]\n",
    "print(List)\n",
    "\n",
    "print(dict)\n",
    "del dict[\"Name\"]\n",
    "print(dict)"
   ]
  },
  {
   "cell_type": "markdown",
   "metadata": {},
   "source": [
    "## **函数**"
   ]
  },
  {
   "cell_type": "code",
   "execution_count": 4,
   "metadata": {},
   "outputs": [
    {
     "name": "stdout",
     "output_type": "stream",
     "text": [
      "3\n"
     ]
    }
   ],
   "source": [
    "# 函数格式\n",
    "def func(x, y):\n",
    "    z = x + y\n",
    "    return z\n",
    "    \n",
    "func = func(1,2)\n",
    "print(func)"
   ]
  },
  {
   "cell_type": "code",
   "execution_count": 16,
   "metadata": {},
   "outputs": [
    {
     "name": "stdout",
     "output_type": "stream",
     "text": [
      "名字:  甲\n",
      "年龄:  50\n"
     ]
    }
   ],
   "source": [
    "# 必须参数\n",
    "# 关键字参数\n",
    "def printinfo( name, age ):\n",
    "   \"打印任何传入的字符串\"\n",
    "   print (\"名字: \", name)\n",
    "   print (\"年龄: \", age)\n",
    "   return\n",
    "\n",
    "#调用printinfo函数\n",
    "printinfo( age=50, name=\"甲\" )"
   ]
  },
  {
   "cell_type": "code",
   "execution_count": 15,
   "metadata": {
    "scrolled": true
   },
   "outputs": [
    {
     "name": "stdout",
     "output_type": "stream",
     "text": [
      "名字:  甲\n",
      "年龄:  35\n",
      "------------------------\n",
      "名字:  乙\n",
      "年龄:  50\n"
     ]
    }
   ],
   "source": [
    "# 默认参数\n",
    "def printinfo( name, age = 35 ):\n",
    "   \"打印任何传入的字符串\"\n",
    "   print (\"名字: \", name)\n",
    "   print (\"年龄: \", age)\n",
    "   return\n",
    " \n",
    "#调用printinfo函数\n",
    "printinfo( name=\"甲\" )\n",
    "print (\"------------------------\")\n",
    "printinfo( age=50, name=\"乙\" )"
   ]
  },
  {
   "cell_type": "code",
   "execution_count": 10,
   "metadata": {},
   "outputs": [
    {
     "name": "stdout",
     "output_type": "stream",
     "text": [
      "输出: \n",
      "70\n",
      "(60, 50)\n",
      "{'y': 1}\n"
     ]
    }
   ],
   "source": [
    "# 不定长参数\n",
    "def printinfo( arg1, *args,**kwargs):\n",
    "   \"打印任何传入的参数,*号为元组，**为字典\"\n",
    "   print (\"输出: \")\n",
    "   print (arg1)\n",
    "   print (args)\n",
    "   print(kwargs)\n",
    " \n",
    "# 调用printinfo 函数\n",
    "printinfo( 70, 60, 50, y=1 )"
   ]
  },
  {
   "cell_type": "code",
   "execution_count": 36,
   "metadata": {},
   "outputs": [
    {
     "name": "stdout",
     "output_type": "stream",
     "text": [
      "相加后的值为 :  30\n",
      "相加后的值为 :  40\n"
     ]
    }
   ],
   "source": [
    "# 匿名函数\n",
    "sum = lambda arg1, arg2: arg1 + arg2\n",
    " \n",
    "# 调用sum函数\n",
    "print (\"相加后的值为 : \", sum( 10, 20 ))\n",
    "print (\"相加后的值为 : \", sum( 20, 20 ))"
   ]
  },
  {
   "cell_type": "code",
   "execution_count": 44,
   "metadata": {},
   "outputs": [
    {
     "name": "stdout",
     "output_type": "stream",
     "text": [
      "函数内是局部变量 :  30\n",
      "函数外是全局变量 :  0\n"
     ]
    }
   ],
   "source": [
    "# 全局变量和局域变量\n",
    "\n",
    "total = 0  # 这是一个全局变量\n",
    "def sum( arg1, arg2 ):\n",
    "    #返回2个参数的和.\"\n",
    "    total = arg1 + arg2  # total在这里是局部变量.\n",
    "    print (\"函数内是局部变量 : \", total)\n",
    "    return total\n",
    " \n",
    "sum( 10, 20 )\n",
    "print (\"函数外是全局变量 : \", total)"
   ]
  },
  {
   "cell_type": "code",
   "execution_count": 13,
   "metadata": {},
   "outputs": [
    {
     "name": "stdout",
     "output_type": "stream",
     "text": [
      "1\n",
      "123\n",
      "123\n"
     ]
    }
   ],
   "source": [
    "# global关键字声明\n",
    "num = 1\n",
    "def fun1():\n",
    "    global num  # 需要使用 global 关键字声明\n",
    "    print(num) \n",
    "    num = 123\n",
    "    print(num)\n",
    "fun1()\n",
    "print(num)"
   ]
  },
  {
   "cell_type": "markdown",
   "metadata": {},
   "source": [
    "## 面向对象"
   ]
  },
  {
   "cell_type": "code",
   "execution_count": 1,
   "metadata": {},
   "outputs": [
    {
     "name": "stdout",
     "output_type": "stream",
     "text": [
      "甲 说: 我 10 岁。\n"
     ]
    }
   ],
   "source": [
    "class people:\n",
    "    #定义基本属性\n",
    "    name = 'A'\n",
    "    age = 0\n",
    "    # 定义私有属性,私有属性在类外部无法直接进行访问\n",
    "    __weight = 0\n",
    "    # 定义构造方法\n",
    "    def __init__(self,n,a,w):\n",
    "        self.name = n\n",
    "        self.age = a\n",
    "        self.__weight = w\n",
    "    def speak(self):\n",
    "        print(\"%s 说: 我 %d 岁。\" %(self.name,self.age))\n",
    " \n",
    "# 实例化类\n",
    "p = people('甲',10,30)\n",
    "p.speak()"
   ]
  },
  {
   "cell_type": "code",
   "execution_count": 14,
   "metadata": {},
   "outputs": [
    {
     "name": "stdout",
     "output_type": "stream",
     "text": [
      "甲 说: 我 10 岁了，我在读 3 年级\n"
     ]
    }
   ],
   "source": [
    "# 继承\n",
    "class people:\n",
    "    #定义基本属性\n",
    "    name = 'A'\n",
    "    age = 0\n",
    "    #定义私有属性,私有属性在类外部无法直接进行访问\n",
    "    __weight = 0\n",
    "    #定义构造方法\n",
    "    def __init__(self,n,a,w):\n",
    "        self.name = n\n",
    "        self.age = a\n",
    "        self.__weight = w\n",
    "    def speak(self):\n",
    "        print(\"%s 说: 我 %d 岁。\" %(self.name,self.age))\n",
    " \n",
    "#单继承示例\n",
    "class student(people):\n",
    "    grade = '2'\n",
    "    def __init__(self,n,a,w,g):\n",
    "        #调用父类的构函\n",
    "        people.__init__(self,n,a,w)\n",
    "        self.grade = g\n",
    "    #覆写父类的方法\n",
    "    def speak(self):\n",
    "        print(\"%s 说: 我 %d 岁了，我在读 %d 年级\"%(self.name,self.age,self.grade))\n",
    " \n",
    " \n",
    " \n",
    "s = student('甲',10,60,3)\n",
    "s.speak()"
   ]
  },
  {
   "cell_type": "code",
   "execution_count": 66,
   "metadata": {},
   "outputs": [
    {
     "name": "stdout",
     "output_type": "stream",
     "text": [
      "调用子类方法\n",
      "调用父类方法\n"
     ]
    }
   ],
   "source": [
    "# 方法重写\n",
    "class Parent:        # 定义父类\n",
    "   def myMethod(self):\n",
    "      print ('调用父类方法')\n",
    " \n",
    "class Child(Parent): # 定义子类\n",
    "   def myMethod(self):\n",
    "      print ('调用子类方法')\n",
    " \n",
    "c = Child()          # 子类实例\n",
    "c.myMethod()         # 子类调用重写方法\n",
    "super(Child,c).myMethod() #用子类对象调用父类已被覆盖的方法"
   ]
  },
  {
   "cell_type": "markdown",
   "metadata": {},
   "source": [
    "**私有属性**   \n",
    "（1）_xxx  \n",
    "单下划线：以\"单下划线 \" 开始的成员变量相当于私有变量，也叫做保护变量，意思是**只有类实例和子类实例能访问到这些变量**。\n",
    "\n",
    "（2）\\__xxx  \n",
    "双下划线：以\" 双下划线 \" 开始的是私有成员，意思是**只有类对象自己能访问，连子类对象也不能访问到这个数据**。  \n",
    "\n",
    "（3）\\_\\_xxx__  \n",
    "系统定义名字，前后均有一个“双下划线” **代表python里特殊方法专用的标识**，如 \\_\\_init__（）代表类的构造函数。"
   ]
  },
  {
   "cell_type": "code",
   "execution_count": 9,
   "metadata": {},
   "outputs": [
    {
     "name": "stdout",
     "output_type": "stream",
     "text": [
      "1\n",
      "2\n",
      "2\n"
     ]
    },
    {
     "ename": "AttributeError",
     "evalue": "'JustCounter' object has no attribute '__secretCount'",
     "output_type": "error",
     "traceback": [
      "\u001b[1;31m---------------------------------------------------------------------------\u001b[0m",
      "\u001b[1;31mAttributeError\u001b[0m                            Traceback (most recent call last)",
      "\u001b[1;32m<ipython-input-9-7cdfa2c3b1c3>\u001b[0m in \u001b[0;36m<module>\u001b[1;34m\u001b[0m\n\u001b[0;32m     13\u001b[0m \u001b[0mcounter\u001b[0m\u001b[1;33m.\u001b[0m\u001b[0mcount\u001b[0m\u001b[1;33m(\u001b[0m\u001b[1;33m)\u001b[0m\u001b[1;33m\u001b[0m\u001b[1;33m\u001b[0m\u001b[0m\n\u001b[0;32m     14\u001b[0m \u001b[0mprint\u001b[0m \u001b[1;33m(\u001b[0m\u001b[0mcounter\u001b[0m\u001b[1;33m.\u001b[0m\u001b[0mpublicCount\u001b[0m\u001b[1;33m)\u001b[0m\u001b[1;33m\u001b[0m\u001b[1;33m\u001b[0m\u001b[0m\n\u001b[1;32m---> 15\u001b[1;33m \u001b[0mprint\u001b[0m \u001b[1;33m(\u001b[0m\u001b[0mcounter\u001b[0m\u001b[1;33m.\u001b[0m\u001b[0m__secretCount\u001b[0m\u001b[1;33m)\u001b[0m  \u001b[1;31m# 报错，实例不能访问私有变量\u001b[0m\u001b[1;33m\u001b[0m\u001b[1;33m\u001b[0m\u001b[0m\n\u001b[0m",
      "\u001b[1;31mAttributeError\u001b[0m: 'JustCounter' object has no attribute '__secretCount'"
     ]
    }
   ],
   "source": [
    "# 类的私有属性实例\n",
    "class JustCounter:\n",
    "    __secretCount = 0  # 私有变量\n",
    "    publicCount = 0    # 公开变量\n",
    " \n",
    "    def count(self):\n",
    "        self.__secretCount += 1\n",
    "        self.publicCount += 1\n",
    "        print (self.__secretCount)\n",
    " \n",
    "counter = JustCounter()\n",
    "counter.count()\n",
    "counter.count()\n",
    "print (counter.publicCount)\n",
    "print (counter.__secretCount)  # 报错，实例不能访问私有变量"
   ]
  },
  {
   "cell_type": "code",
   "execution_count": 12,
   "metadata": {},
   "outputs": [
    {
     "name": "stdout",
     "output_type": "stream",
     "text": [
      "name  :  菜鸟教程\n",
      "url :  www.runoob.com\n",
      "这是公共方法\n",
      "这是私有方法\n"
     ]
    },
    {
     "ename": "AttributeError",
     "evalue": "'Site' object has no attribute '__foo'",
     "output_type": "error",
     "traceback": [
      "\u001b[1;31m---------------------------------------------------------------------------\u001b[0m",
      "\u001b[1;31mAttributeError\u001b[0m                            Traceback (most recent call last)",
      "\u001b[1;32m<ipython-input-12-a96bc81f0bd5>\u001b[0m in \u001b[0;36m<module>\u001b[1;34m\u001b[0m\n\u001b[0;32m     19\u001b[0m \u001b[0mx\u001b[0m\u001b[1;33m.\u001b[0m\u001b[0mwho\u001b[0m\u001b[1;33m(\u001b[0m\u001b[1;33m)\u001b[0m        \u001b[1;31m# 正常输出\u001b[0m\u001b[1;33m\u001b[0m\u001b[1;33m\u001b[0m\u001b[0m\n\u001b[0;32m     20\u001b[0m \u001b[0mx\u001b[0m\u001b[1;33m.\u001b[0m\u001b[0mfoo\u001b[0m\u001b[1;33m(\u001b[0m\u001b[1;33m)\u001b[0m        \u001b[1;31m# 正常输出\u001b[0m\u001b[1;33m\u001b[0m\u001b[1;33m\u001b[0m\u001b[0m\n\u001b[1;32m---> 21\u001b[1;33m \u001b[0mx\u001b[0m\u001b[1;33m.\u001b[0m\u001b[0m__foo\u001b[0m\u001b[1;33m(\u001b[0m\u001b[1;33m)\u001b[0m      \u001b[1;31m# 报错\u001b[0m\u001b[1;33m\u001b[0m\u001b[1;33m\u001b[0m\u001b[0m\n\u001b[0m",
      "\u001b[1;31mAttributeError\u001b[0m: 'Site' object has no attribute '__foo'"
     ]
    }
   ],
   "source": [
    "# 类的私有方法实例\n",
    "class Site:\n",
    "    def __init__(self, name, url):\n",
    "        self.name = name       # public\n",
    "        self.__url = url   # private\n",
    " \n",
    "    def who(self):\n",
    "        print('name  : ', self.name)\n",
    "        print('url : ', self.__url)\n",
    " \n",
    "    def __foo(self):          # 私有方法\n",
    "        print('这是私有方法')\n",
    " \n",
    "    def foo(self):            # 公共方法\n",
    "        print('这是公共方法')\n",
    "        self.__foo()\n",
    " \n",
    "x = Site('菜鸟教程', 'www.runoob.com')\n",
    "x.who()        # 正常输出\n",
    "x.foo()        # 正常输出\n",
    "x.__foo()      # 报错"
   ]
  }
 ],
 "metadata": {
  "kernelspec": {
   "display_name": "Python 3",
   "language": "python",
   "name": "python3"
  },
  "language_info": {
   "codemirror_mode": {
    "name": "ipython",
    "version": 3
   },
   "file_extension": ".py",
   "mimetype": "text/x-python",
   "name": "python",
   "nbconvert_exporter": "python",
   "pygments_lexer": "ipython3",
   "version": "3.7.1"
  }
 },
 "nbformat": 4,
 "nbformat_minor": 2
}
